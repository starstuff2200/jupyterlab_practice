{
 "cells": [
  {
   "cell_type": "markdown",
   "id": "0860df7e-235c-49a9-ae82-c83bd4a8cb4e",
   "metadata": {},
   "source": [
    "# Kelly Xu\n",
    "Notebook for assignment 7"
   ]
  },
  {
   "cell_type": "code",
   "execution_count": 7,
   "id": "307b9961-13e6-40ea-a850-7d492a07998f",
   "metadata": {},
   "outputs": [],
   "source": [
    "def compute_mean (number_list): \n",
    "    mean_result = sum(number_list)/len(number_list)\n",
    "    return mean_result "
   ]
  },
  {
   "cell_type": "code",
   "execution_count": 17,
   "id": "c13ca1ec-0e13-4826-935f-35dc024b98d3",
   "metadata": {},
   "outputs": [
    {
     "data": {
      "text/plain": [
       "5.0"
      ]
     },
     "execution_count": 17,
     "metadata": {},
     "output_type": "execute_result"
    }
   ],
   "source": [
    "compute_mean([2,4,6,8])"
   ]
  },
  {
   "cell_type": "markdown",
   "id": "9a6d705b-136e-479f-9009-78b6d2eb168e",
   "metadata": {},
   "source": [
    "The function compute_mean calculates and returns the average value of a list of numbers. The equation is:  "
   ]
  },
  {
   "cell_type": "markdown",
   "id": "09f2e5cc-32e7-4b4b-9a60-3caec7436548",
   "metadata": {},
   "source": [
    "$$ \\bar{x} = \\frac{x_1+x_2+\\cdots+x_n}{n} = \\frac{1}{n}\\bigg( \\sum_{i=1}^n{x_i} \\bigg )$$"
   ]
  }
 ],
 "metadata": {
  "kernelspec": {
   "display_name": "Python [conda env:project-env]",
   "language": "python",
   "name": "conda-env-project-env-py"
  },
  "language_info": {
   "codemirror_mode": {
    "name": "ipython",
    "version": 3
   },
   "file_extension": ".py",
   "mimetype": "text/x-python",
   "name": "python",
   "nbconvert_exporter": "python",
   "pygments_lexer": "ipython3",
   "version": "3.12.4"
  }
 },
 "nbformat": 4,
 "nbformat_minor": 5
}
